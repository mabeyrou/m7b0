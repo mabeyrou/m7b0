{
 "cells": [
  {
   "cell_type": "markdown",
   "id": "ee385580",
   "metadata": {},
   "source": [
    "# Analyse du dataset UCIML Adult\n"
   ]
  },
  {
   "cell_type": "code",
   "execution_count": 28,
   "id": "9fd63f47",
   "metadata": {},
   "outputs": [],
   "source": [
    "import pandas as pd\n",
    "from ucimlrepo import fetch_ucirepo\n",
    "from os.path import join"
   ]
  },
  {
   "cell_type": "code",
   "execution_count": 29,
   "id": "3175d534",
   "metadata": {},
   "outputs": [],
   "source": [
    "adult = fetch_ucirepo(name=\"Adult\")\n",
    "\n",
    "X = adult.data.features\n",
    "y = adult.data.targets"
   ]
  },
  {
   "cell_type": "code",
   "execution_count": 30,
   "id": "906f8ca6",
   "metadata": {},
   "outputs": [],
   "source": [
    "df = adult.data.original\n",
    "df.to_csv(join(\"..\", \"data\", \"raw\", \"adult.csv\"))"
   ]
  },
  {
   "cell_type": "code",
   "execution_count": 31,
   "id": "a323d55e",
   "metadata": {},
   "outputs": [
    {
     "data": {
      "text/plain": [
       "Index(['age', 'workclass', 'fnlwgt', 'education', 'education-num',\n",
       "       'marital-status', 'occupation', 'relationship', 'race', 'sex',\n",
       "       'capital-gain', 'capital-loss', 'hours-per-week', 'native-country',\n",
       "       'income'],\n",
       "      dtype='object')"
      ]
     },
     "execution_count": 31,
     "metadata": {},
     "output_type": "execute_result"
    }
   ],
   "source": [
    "df.columns"
   ]
  },
  {
   "cell_type": "markdown",
   "id": "a85e31b9",
   "metadata": {},
   "source": [
    "## Analyse des valeurs cibles\n"
   ]
  },
  {
   "cell_type": "code",
   "execution_count": 32,
   "id": "69d55ab7",
   "metadata": {},
   "outputs": [
    {
     "data": {
      "text/plain": [
       "(48842, 1)"
      ]
     },
     "execution_count": 32,
     "metadata": {},
     "output_type": "execute_result"
    }
   ],
   "source": [
    "y.shape"
   ]
  },
  {
   "cell_type": "code",
   "execution_count": 33,
   "id": "dc6c4ed9",
   "metadata": {},
   "outputs": [
    {
     "data": {
      "application/vnd.microsoft.datawrangler.viewer.v0+json": {
       "columns": [
        {
         "name": "index",
         "rawType": "object",
         "type": "string"
        },
        {
         "name": "income",
         "rawType": "object",
         "type": "unknown"
        }
       ],
       "ref": "06498dd4-0d3a-4969-9bdd-ebef00f65170",
       "rows": [
        [
         "count",
         "48842"
        ],
        [
         "unique",
         "4"
        ],
        [
         "top",
         "<=50K"
        ],
        [
         "freq",
         "24720"
        ]
       ],
       "shape": {
        "columns": 1,
        "rows": 4
       }
      },
      "text/html": [
       "<div>\n",
       "<style scoped>\n",
       "    .dataframe tbody tr th:only-of-type {\n",
       "        vertical-align: middle;\n",
       "    }\n",
       "\n",
       "    .dataframe tbody tr th {\n",
       "        vertical-align: top;\n",
       "    }\n",
       "\n",
       "    .dataframe thead th {\n",
       "        text-align: right;\n",
       "    }\n",
       "</style>\n",
       "<table border=\"1\" class=\"dataframe\">\n",
       "  <thead>\n",
       "    <tr style=\"text-align: right;\">\n",
       "      <th></th>\n",
       "      <th>income</th>\n",
       "    </tr>\n",
       "  </thead>\n",
       "  <tbody>\n",
       "    <tr>\n",
       "      <th>count</th>\n",
       "      <td>48842</td>\n",
       "    </tr>\n",
       "    <tr>\n",
       "      <th>unique</th>\n",
       "      <td>4</td>\n",
       "    </tr>\n",
       "    <tr>\n",
       "      <th>top</th>\n",
       "      <td>&lt;=50K</td>\n",
       "    </tr>\n",
       "    <tr>\n",
       "      <th>freq</th>\n",
       "      <td>24720</td>\n",
       "    </tr>\n",
       "  </tbody>\n",
       "</table>\n",
       "</div>"
      ],
      "text/plain": [
       "       income\n",
       "count   48842\n",
       "unique      4\n",
       "top     <=50K\n",
       "freq    24720"
      ]
     },
     "execution_count": 33,
     "metadata": {},
     "output_type": "execute_result"
    }
   ],
   "source": [
    "y.describe()"
   ]
  },
  {
   "cell_type": "markdown",
   "id": "6eae840f",
   "metadata": {},
   "source": [
    "### Exploration des valeurs uniques\n"
   ]
  },
  {
   "cell_type": "code",
   "execution_count": 34,
   "id": "855811e9",
   "metadata": {},
   "outputs": [
    {
     "data": {
      "application/vnd.microsoft.datawrangler.viewer.v0+json": {
       "columns": [
        {
         "name": "income",
         "rawType": "object",
         "type": "string"
        },
        {
         "name": "count",
         "rawType": "int64",
         "type": "integer"
        }
       ],
       "ref": "1068adaf-63d1-4f5f-b22f-04d188602d16",
       "rows": [
        [
         "<=50K",
         "24720"
        ],
        [
         "<=50K.",
         "12435"
        ],
        [
         ">50K",
         "7841"
        ],
        [
         ">50K.",
         "3846"
        ]
       ],
       "shape": {
        "columns": 1,
        "rows": 4
       }
      },
      "text/plain": [
       "income\n",
       "<=50K     24720\n",
       "<=50K.    12435\n",
       ">50K       7841\n",
       ">50K.      3846\n",
       "Name: count, dtype: int64"
      ]
     },
     "execution_count": 34,
     "metadata": {},
     "output_type": "execute_result"
    }
   ],
   "source": [
    "df.income.value_counts()"
   ]
  },
  {
   "cell_type": "markdown",
   "id": "a139d896",
   "metadata": {},
   "source": [
    "### Gestion des labels erronés\n",
    "\n",
    "Alors que les valeurs cibles ne devraient comprendre que 2 labels, on en compte ici 4. Cela s'explique par la duplication des labels avec un point supplémentaire en fin de chaîne. Il est indispensable de corriger cette erreur de labélisation pour préserver les 2 catégories souhaitées.\n"
   ]
  },
  {
   "cell_type": "code",
   "execution_count": 35,
   "id": "d6256da3",
   "metadata": {},
   "outputs": [
    {
     "data": {
      "application/vnd.microsoft.datawrangler.viewer.v0+json": {
       "columns": [
        {
         "name": "income",
         "rawType": "object",
         "type": "string"
        },
        {
         "name": "count",
         "rawType": "int64",
         "type": "integer"
        }
       ],
       "ref": "f303ca7e-9804-4df9-9442-7f1af94029ad",
       "rows": [
        [
         "<=50K",
         "37155"
        ],
        [
         ">50K",
         "11687"
        ]
       ],
       "shape": {
        "columns": 1,
        "rows": 2
       }
      },
      "text/plain": [
       "income\n",
       "<=50K    37155\n",
       ">50K     11687\n",
       "Name: count, dtype: int64"
      ]
     },
     "execution_count": 35,
     "metadata": {},
     "output_type": "execute_result"
    }
   ],
   "source": [
    "df.loc[:, \"income\"] = df[\"income\"].replace({\"<=50K.\": \"<=50K\", \">50K.\": \">50K\"})\n",
    "df.income.value_counts()"
   ]
  },
  {
   "cell_type": "markdown",
   "id": "4c66f021",
   "metadata": {},
   "source": [
    "## Analyses des features\n"
   ]
  },
  {
   "cell_type": "code",
   "execution_count": 36,
   "id": "112bc98c",
   "metadata": {},
   "outputs": [
    {
     "name": "stdout",
     "output_type": "stream",
     "text": [
      "<class 'pandas.core.frame.DataFrame'>\n",
      "RangeIndex: 48842 entries, 0 to 48841\n",
      "Data columns (total 14 columns):\n",
      " #   Column          Non-Null Count  Dtype \n",
      "---  ------          --------------  ----- \n",
      " 0   age             48842 non-null  int64 \n",
      " 1   workclass       47879 non-null  object\n",
      " 2   fnlwgt          48842 non-null  int64 \n",
      " 3   education       48842 non-null  object\n",
      " 4   education-num   48842 non-null  int64 \n",
      " 5   marital-status  48842 non-null  object\n",
      " 6   occupation      47876 non-null  object\n",
      " 7   relationship    48842 non-null  object\n",
      " 8   race            48842 non-null  object\n",
      " 9   sex             48842 non-null  object\n",
      " 10  capital-gain    48842 non-null  int64 \n",
      " 11  capital-loss    48842 non-null  int64 \n",
      " 12  hours-per-week  48842 non-null  int64 \n",
      " 13  native-country  48568 non-null  object\n",
      "dtypes: int64(6), object(8)\n",
      "memory usage: 5.2+ MB\n"
     ]
    }
   ],
   "source": [
    "X.info()"
   ]
  },
  {
   "cell_type": "code",
   "execution_count": 37,
   "id": "f7610096",
   "metadata": {},
   "outputs": [
    {
     "data": {
      "application/vnd.microsoft.datawrangler.viewer.v0+json": {
       "columns": [
        {
         "name": "index",
         "rawType": "object",
         "type": "string"
        },
        {
         "name": "age",
         "rawType": "float64",
         "type": "float"
        },
        {
         "name": "fnlwgt",
         "rawType": "float64",
         "type": "float"
        },
        {
         "name": "education-num",
         "rawType": "float64",
         "type": "float"
        },
        {
         "name": "capital-gain",
         "rawType": "float64",
         "type": "float"
        },
        {
         "name": "capital-loss",
         "rawType": "float64",
         "type": "float"
        },
        {
         "name": "hours-per-week",
         "rawType": "float64",
         "type": "float"
        }
       ],
       "ref": "f6b3fa5a-d2d2-4dab-b94b-51213c096eb1",
       "rows": [
        [
         "count",
         "48842.0",
         "48842.0",
         "48842.0",
         "48842.0",
         "48842.0",
         "48842.0"
        ],
        [
         "mean",
         "38.64358543876172",
         "189664.13459727284",
         "10.078088530363212",
         "1079.0676262233324",
         "87.50231358257237",
         "40.422382375824085"
        ],
        [
         "std",
         "13.710509934443555",
         "105604.02542315728",
         "2.5709727555922566",
         "7452.019057655394",
         "403.00455212435907",
         "12.391444024252307"
        ],
        [
         "min",
         "17.0",
         "12285.0",
         "1.0",
         "0.0",
         "0.0",
         "1.0"
        ],
        [
         "25%",
         "28.0",
         "117550.5",
         "9.0",
         "0.0",
         "0.0",
         "40.0"
        ],
        [
         "50%",
         "37.0",
         "178144.5",
         "10.0",
         "0.0",
         "0.0",
         "40.0"
        ],
        [
         "75%",
         "48.0",
         "237642.0",
         "12.0",
         "0.0",
         "0.0",
         "45.0"
        ],
        [
         "max",
         "90.0",
         "1490400.0",
         "16.0",
         "99999.0",
         "4356.0",
         "99.0"
        ]
       ],
       "shape": {
        "columns": 6,
        "rows": 8
       }
      },
      "text/html": [
       "<div>\n",
       "<style scoped>\n",
       "    .dataframe tbody tr th:only-of-type {\n",
       "        vertical-align: middle;\n",
       "    }\n",
       "\n",
       "    .dataframe tbody tr th {\n",
       "        vertical-align: top;\n",
       "    }\n",
       "\n",
       "    .dataframe thead th {\n",
       "        text-align: right;\n",
       "    }\n",
       "</style>\n",
       "<table border=\"1\" class=\"dataframe\">\n",
       "  <thead>\n",
       "    <tr style=\"text-align: right;\">\n",
       "      <th></th>\n",
       "      <th>age</th>\n",
       "      <th>fnlwgt</th>\n",
       "      <th>education-num</th>\n",
       "      <th>capital-gain</th>\n",
       "      <th>capital-loss</th>\n",
       "      <th>hours-per-week</th>\n",
       "    </tr>\n",
       "  </thead>\n",
       "  <tbody>\n",
       "    <tr>\n",
       "      <th>count</th>\n",
       "      <td>48842.000000</td>\n",
       "      <td>4.884200e+04</td>\n",
       "      <td>48842.000000</td>\n",
       "      <td>48842.000000</td>\n",
       "      <td>48842.000000</td>\n",
       "      <td>48842.000000</td>\n",
       "    </tr>\n",
       "    <tr>\n",
       "      <th>mean</th>\n",
       "      <td>38.643585</td>\n",
       "      <td>1.896641e+05</td>\n",
       "      <td>10.078089</td>\n",
       "      <td>1079.067626</td>\n",
       "      <td>87.502314</td>\n",
       "      <td>40.422382</td>\n",
       "    </tr>\n",
       "    <tr>\n",
       "      <th>std</th>\n",
       "      <td>13.710510</td>\n",
       "      <td>1.056040e+05</td>\n",
       "      <td>2.570973</td>\n",
       "      <td>7452.019058</td>\n",
       "      <td>403.004552</td>\n",
       "      <td>12.391444</td>\n",
       "    </tr>\n",
       "    <tr>\n",
       "      <th>min</th>\n",
       "      <td>17.000000</td>\n",
       "      <td>1.228500e+04</td>\n",
       "      <td>1.000000</td>\n",
       "      <td>0.000000</td>\n",
       "      <td>0.000000</td>\n",
       "      <td>1.000000</td>\n",
       "    </tr>\n",
       "    <tr>\n",
       "      <th>25%</th>\n",
       "      <td>28.000000</td>\n",
       "      <td>1.175505e+05</td>\n",
       "      <td>9.000000</td>\n",
       "      <td>0.000000</td>\n",
       "      <td>0.000000</td>\n",
       "      <td>40.000000</td>\n",
       "    </tr>\n",
       "    <tr>\n",
       "      <th>50%</th>\n",
       "      <td>37.000000</td>\n",
       "      <td>1.781445e+05</td>\n",
       "      <td>10.000000</td>\n",
       "      <td>0.000000</td>\n",
       "      <td>0.000000</td>\n",
       "      <td>40.000000</td>\n",
       "    </tr>\n",
       "    <tr>\n",
       "      <th>75%</th>\n",
       "      <td>48.000000</td>\n",
       "      <td>2.376420e+05</td>\n",
       "      <td>12.000000</td>\n",
       "      <td>0.000000</td>\n",
       "      <td>0.000000</td>\n",
       "      <td>45.000000</td>\n",
       "    </tr>\n",
       "    <tr>\n",
       "      <th>max</th>\n",
       "      <td>90.000000</td>\n",
       "      <td>1.490400e+06</td>\n",
       "      <td>16.000000</td>\n",
       "      <td>99999.000000</td>\n",
       "      <td>4356.000000</td>\n",
       "      <td>99.000000</td>\n",
       "    </tr>\n",
       "  </tbody>\n",
       "</table>\n",
       "</div>"
      ],
      "text/plain": [
       "                age        fnlwgt  education-num  capital-gain  capital-loss  \\\n",
       "count  48842.000000  4.884200e+04   48842.000000  48842.000000  48842.000000   \n",
       "mean      38.643585  1.896641e+05      10.078089   1079.067626     87.502314   \n",
       "std       13.710510  1.056040e+05       2.570973   7452.019058    403.004552   \n",
       "min       17.000000  1.228500e+04       1.000000      0.000000      0.000000   \n",
       "25%       28.000000  1.175505e+05       9.000000      0.000000      0.000000   \n",
       "50%       37.000000  1.781445e+05      10.000000      0.000000      0.000000   \n",
       "75%       48.000000  2.376420e+05      12.000000      0.000000      0.000000   \n",
       "max       90.000000  1.490400e+06      16.000000  99999.000000   4356.000000   \n",
       "\n",
       "       hours-per-week  \n",
       "count    48842.000000  \n",
       "mean        40.422382  \n",
       "std         12.391444  \n",
       "min          1.000000  \n",
       "25%         40.000000  \n",
       "50%         40.000000  \n",
       "75%         45.000000  \n",
       "max         99.000000  "
      ]
     },
     "execution_count": 37,
     "metadata": {},
     "output_type": "execute_result"
    }
   ],
   "source": [
    "X.describe()"
   ]
  },
  {
   "cell_type": "markdown",
   "id": "86f986da",
   "metadata": {},
   "source": [
    "### Analyse éthique\n"
   ]
  },
  {
   "cell_type": "code",
   "execution_count": 38,
   "id": "75574dbe",
   "metadata": {},
   "outputs": [
    {
     "data": {
      "text/plain": [
       "Index(['age', 'workclass', 'fnlwgt', 'education', 'education-num',\n",
       "       'marital-status', 'occupation', 'relationship', 'race', 'sex',\n",
       "       'capital-gain', 'capital-loss', 'hours-per-week', 'native-country'],\n",
       "      dtype='object')"
      ]
     },
     "execution_count": 38,
     "metadata": {},
     "output_type": "execute_result"
    }
   ],
   "source": [
    "X.columns"
   ]
  },
  {
   "cell_type": "markdown",
   "id": "716d09d1",
   "metadata": {},
   "source": [
    "#### Columns analysis\n",
    "\n",
    "- `race`: Utiliser la race comme prédicteur de revenu risque de perpétuer des biais systémiques et est illégal dans de nombreux contextes.\n",
    "- `sex`: Utiliser le genre comme prédicteur de revenu risque de perpétuer les inégalités salariales homme-femme.\n",
    "- `native-country`: Le pays d'origine peut avoir un impact sur le revenu. La barrière de la langue, l'éducation différente et la reconnaissance des diplômes d'un pays à l'autre sont autant de facteurs qui lient le pays de naissance au revenu. Cependant, cette donnée pourrait perpétuer des discriminations basées sur l'origine. De plus, il est illégal de conserver cette donnée en Europe.\n",
    "\n",
    "- `marital-status` et `relationship` peuvent avoir une influence non négligeable sur les revenus. Cependant, ces colonnes risques de\n"
   ]
  },
  {
   "cell_type": "code",
   "execution_count": 39,
   "id": "6629949a",
   "metadata": {},
   "outputs": [],
   "source": [
    "unethical_cols = [\"race\", \"sex\", \"native-country\"]\n",
    "# questionnable_cols = [\"marital-status\", \"relationship\"]\n",
    "questionnable_cols = [\"marital-status\"]\n",
    "useless_cols = [\"fnlwgt\"]\n",
    "cols_to_drop = unethical_cols + questionnable_cols + useless_cols\n",
    "\n",
    "ethical_df = df.drop(columns=cols_to_drop)"
   ]
  },
  {
   "cell_type": "code",
   "execution_count": 40,
   "id": "b60bbde2",
   "metadata": {},
   "outputs": [
    {
     "data": {
      "text/plain": [
       "Index(['age', 'workclass', 'education', 'education-num', 'occupation',\n",
       "       'relationship', 'capital-gain', 'capital-loss', 'hours-per-week',\n",
       "       'income'],\n",
       "      dtype='object')"
      ]
     },
     "execution_count": 40,
     "metadata": {},
     "output_type": "execute_result"
    }
   ],
   "source": [
    "ethical_df.columns"
   ]
  },
  {
   "cell_type": "code",
   "execution_count": 41,
   "id": "28896c0c",
   "metadata": {},
   "outputs": [
    {
     "name": "stdout",
     "output_type": "stream",
     "text": [
      "workclass empty lines: 963 (1.97%)\n",
      "occupation empty lines: 966 (1.98%)\n",
      "----------------------------------------\n",
      "total empty lines: 966 (2.50%)\n"
     ]
    }
   ],
   "source": [
    "cols_with_empty_values = [\"workclass\", \"occupation\"]\n",
    "total_lines_count = df.shape[0]\n",
    "\n",
    "for col in cols_with_empty_values:\n",
    "    empty_line_count = df[col].isnull().sum()\n",
    "    empty_line_percentage = empty_line_count / total_lines_count * 100\n",
    "    print(f\"{col} empty lines: {empty_line_count} ({empty_line_percentage:.2f}%)\")\n",
    "\n",
    "print(\"-\" * 40)\n",
    "total_empty_line_count = df.isnull().any(axis=1).sum()\n",
    "total_empty_line_percentage = total_empty_line_count / total_lines_count * 100\n",
    "print(f\"total empty lines: {empty_line_count} ({total_empty_line_percentage:.2f}%)\")"
   ]
  },
  {
   "cell_type": "markdown",
   "id": "c0b90172",
   "metadata": {},
   "source": [
    "Les lignes vides ne représentent que 2,50% des données. Je décide de les supprimer."
   ]
  },
  {
   "cell_type": "code",
   "execution_count": 42,
   "id": "ae8f728d",
   "metadata": {},
   "outputs": [
    {
     "name": "stdout",
     "output_type": "stream",
     "text": [
      "<class 'pandas.core.frame.DataFrame'>\n",
      "Index: 47876 entries, 0 to 48841\n",
      "Data columns (total 10 columns):\n",
      " #   Column          Non-Null Count  Dtype \n",
      "---  ------          --------------  ----- \n",
      " 0   age             47876 non-null  int64 \n",
      " 1   workclass       47876 non-null  object\n",
      " 2   education       47876 non-null  object\n",
      " 3   education-num   47876 non-null  int64 \n",
      " 4   occupation      47876 non-null  object\n",
      " 5   relationship    47876 non-null  object\n",
      " 6   capital-gain    47876 non-null  int64 \n",
      " 7   capital-loss    47876 non-null  int64 \n",
      " 8   hours-per-week  47876 non-null  int64 \n",
      " 9   income          47876 non-null  object\n",
      "dtypes: int64(5), object(5)\n",
      "memory usage: 4.0+ MB\n"
     ]
    }
   ],
   "source": [
    "processed_df = ethical_df.dropna()\n",
    "processed_df.info()"
   ]
  },
  {
   "cell_type": "code",
   "execution_count": 43,
   "id": "eee7a7bd",
   "metadata": {},
   "outputs": [],
   "source": [
    "processed_df.to_csv(join(\"..\", \"data\", \"processed\", \"adult.csv\"))"
   ]
  }
 ],
 "metadata": {
  "kernelspec": {
   "display_name": ".venv",
   "language": "python",
   "name": "python3"
  },
  "language_info": {
   "codemirror_mode": {
    "name": "ipython",
    "version": 3
   },
   "file_extension": ".py",
   "mimetype": "text/x-python",
   "name": "python",
   "nbconvert_exporter": "python",
   "pygments_lexer": "ipython3",
   "version": "3.10.18"
  }
 },
 "nbformat": 4,
 "nbformat_minor": 5
}
